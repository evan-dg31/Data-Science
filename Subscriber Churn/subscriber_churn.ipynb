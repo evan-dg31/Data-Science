{
 "cells": [
  {
   "cell_type": "code",
   "execution_count": 45,
   "id": "09dc26b1-a3a1-414a-aaee-111ba944a9b5",
   "metadata": {
    "executionCancelledAt": null,
    "executionTime": 49,
    "lastExecutedAt": 1759635277344,
    "lastExecutedByKernel": "cb14c616-b23a-489e-9873-5e706e38dd3a",
    "lastScheduledRunId": null,
    "lastSuccessfullyExecutedCode": "# Import the necessary modules\nimport pandas as pd\nfrom sklearn.model_selection import train_test_split\nfrom sklearn.preprocessing import StandardScaler\nfrom sklearn.linear_model import LogisticRegression\nfrom sklearn.tree import DecisionTreeClassifier\nfrom sklearn.ensemble import RandomForestClassifier\nfrom sklearn.metrics import confusion_matrix\nfrom sklearn.cluster import KMeans\nimport seaborn as sns\nfrom matplotlib import pyplot as plt\n\n# Specify the file path of your CSV file\nfile_path = \"data/AZWatch_subscribers.csv\"\n\n# Read the CSV file into a DataFrame\ndf = pd.read_csv(file_path)\n\n# Separate predictor variables from class label\nX = df.drop(['subscriber_id','subscription_status'], axis=1)\ny = df.subscription_status\n\n# Split intro training and test sets (20% test)\nX_train, X_test, y_train, y_test = train_test_split(\n                        X, y, test_size=.2, random_state=42)"
   },
   "outputs": [],
   "source": [
    "# Import the necessary modules\n",
    "import pandas as pd\n",
    "from sklearn.model_selection import train_test_split\n",
    "from sklearn.preprocessing import StandardScaler\n",
    "from sklearn.linear_model import LogisticRegression\n",
    "from sklearn.tree import DecisionTreeClassifier\n",
    "from sklearn.ensemble import RandomForestClassifier\n",
    "from sklearn.metrics import confusion_matrix\n",
    "from sklearn.cluster import KMeans\n",
    "import seaborn as sns\n",
    "from matplotlib import pyplot as plt\n",
    "\n",
    "# Specify the file path of your CSV file\n",
    "file_path = \"data/AZWatch_subscribers.csv\"\n",
    "\n",
    "# Read the CSV file into a DataFrame\n",
    "df = pd.read_csv(file_path)\n",
    "\n",
    "# Separate predictor variables from class label\n",
    "X = df.drop(['subscriber_id','subscription_status'], axis=1)\n",
    "y = df.subscription_status\n",
    "\n",
    "# Split intro training and test sets (20% test)\n",
    "X_train, X_test, y_train, y_test = train_test_split(\n",
    "                        X, y, test_size=.2, random_state=42)"
   ]
  },
  {
   "cell_type": "code",
   "execution_count": 46,
   "id": "a76dd157-42ae-4560-ac09-277a9405bb17",
   "metadata": {
    "executionCancelledAt": null,
    "executionTime": 65,
    "lastExecutedAt": 1759635277411,
    "lastExecutedByKernel": "cb14c616-b23a-489e-9873-5e706e38dd3a",
    "lastScheduledRunId": null,
    "lastSuccessfullyExecutedCode": "df.info()\ndf.head()\n#df['age_group'].value_counts()",
    "outputsMetadata": {
     "0": {
      "height": 269,
      "type": "stream"
     },
     "1": {
      "height": 500,
      "tableState": {},
      "type": "dataFrame"
     }
    }
   },
   "outputs": [
    {
     "name": "stdout",
     "output_type": "stream",
     "text": [
      "<class 'pandas.core.frame.DataFrame'>\n",
      "RangeIndex: 1000 entries, 0 to 999\n",
      "Data columns (total 5 columns):\n",
      " #   Column                Non-Null Count  Dtype  \n",
      "---  ------                --------------  -----  \n",
      " 0   subscriber_id         1000 non-null   int64  \n",
      " 1   age_group             1000 non-null   object \n",
      " 2   engagement_time       1000 non-null   float64\n",
      " 3   engagement_frequency  1000 non-null   int64  \n",
      " 4   subscription_status   1000 non-null   object \n",
      "dtypes: float64(1), int64(2), object(2)\n",
      "memory usage: 39.2+ KB\n"
     ]
    },
    {
     "data": {
      "application/com.datacamp.data-table.v2+json": {
       "table": {
        "data": {
         "age_group": [
          "18-34",
          "under 18",
          "35 and over",
          "18-34",
          "18-34"
         ],
         "engagement_frequency": [
          7,
          12,
          4,
          15,
          20
         ],
         "engagement_time": [
          5.55,
          5.12,
          4.25,
          8.54,
          12.12
         ],
         "index": [
          0,
          1,
          2,
          3,
          4
         ],
         "subscriber_id": [
          14451,
          18386,
          12305,
          17546,
          15399
         ],
         "subscription_status": [
          "subscribed",
          "subscribed",
          "churned",
          "subscribed",
          "subscribed"
         ]
        },
        "schema": {
         "fields": [
          {
           "name": "index",
           "type": "integer"
          },
          {
           "name": "subscriber_id",
           "type": "integer"
          },
          {
           "name": "age_group",
           "type": "string"
          },
          {
           "name": "engagement_time",
           "type": "number"
          },
          {
           "name": "engagement_frequency",
           "type": "integer"
          },
          {
           "name": "subscription_status",
           "type": "string"
          }
         ],
         "pandas_version": "1.4.0",
         "primaryKey": [
          "index"
         ]
        }
       },
       "total_rows": 5,
       "truncation_type": null
      },
      "text/html": [
       "<div>\n",
       "<style scoped>\n",
       "    .dataframe tbody tr th:only-of-type {\n",
       "        vertical-align: middle;\n",
       "    }\n",
       "\n",
       "    .dataframe tbody tr th {\n",
       "        vertical-align: top;\n",
       "    }\n",
       "\n",
       "    .dataframe thead th {\n",
       "        text-align: right;\n",
       "    }\n",
       "</style>\n",
       "<table border=\"1\" class=\"dataframe\">\n",
       "  <thead>\n",
       "    <tr style=\"text-align: right;\">\n",
       "      <th></th>\n",
       "      <th>subscriber_id</th>\n",
       "      <th>age_group</th>\n",
       "      <th>engagement_time</th>\n",
       "      <th>engagement_frequency</th>\n",
       "      <th>subscription_status</th>\n",
       "    </tr>\n",
       "  </thead>\n",
       "  <tbody>\n",
       "    <tr>\n",
       "      <th>0</th>\n",
       "      <td>14451</td>\n",
       "      <td>18-34</td>\n",
       "      <td>5.55</td>\n",
       "      <td>7</td>\n",
       "      <td>subscribed</td>\n",
       "    </tr>\n",
       "    <tr>\n",
       "      <th>1</th>\n",
       "      <td>18386</td>\n",
       "      <td>under 18</td>\n",
       "      <td>5.12</td>\n",
       "      <td>12</td>\n",
       "      <td>subscribed</td>\n",
       "    </tr>\n",
       "    <tr>\n",
       "      <th>2</th>\n",
       "      <td>12305</td>\n",
       "      <td>35 and over</td>\n",
       "      <td>4.25</td>\n",
       "      <td>4</td>\n",
       "      <td>churned</td>\n",
       "    </tr>\n",
       "    <tr>\n",
       "      <th>3</th>\n",
       "      <td>17546</td>\n",
       "      <td>18-34</td>\n",
       "      <td>8.54</td>\n",
       "      <td>15</td>\n",
       "      <td>subscribed</td>\n",
       "    </tr>\n",
       "    <tr>\n",
       "      <th>4</th>\n",
       "      <td>15399</td>\n",
       "      <td>18-34</td>\n",
       "      <td>12.12</td>\n",
       "      <td>20</td>\n",
       "      <td>subscribed</td>\n",
       "    </tr>\n",
       "  </tbody>\n",
       "</table>\n",
       "</div>"
      ],
      "text/plain": [
       "   subscriber_id    age_group  ...  engagement_frequency  subscription_status\n",
       "0          14451        18-34  ...                     7           subscribed\n",
       "1          18386     under 18  ...                    12           subscribed\n",
       "2          12305  35 and over  ...                     4              churned\n",
       "3          17546        18-34  ...                    15           subscribed\n",
       "4          15399        18-34  ...                    20           subscribed\n",
       "\n",
       "[5 rows x 5 columns]"
      ]
     },
     "execution_count": 46,
     "metadata": {
      "application/com.datacamp.data-table.v2+json": {
       "status": "success"
      }
     },
     "output_type": "execute_result"
    }
   ],
   "source": [
    "df.info()\n",
    "df.head()\n",
    "#df['age_group'].value_counts()"
   ]
  },
  {
   "cell_type": "code",
   "execution_count": 47,
   "id": "9041c87a-cbbc-4af7-8295-6daf98040d34",
   "metadata": {
    "executionCancelledAt": null,
    "executionTime": 49,
    "lastExecutedAt": 1759635277460,
    "lastExecutedByKernel": "cb14c616-b23a-489e-9873-5e706e38dd3a",
    "lastScheduledRunId": null,
    "lastSuccessfullyExecutedCode": "# Use get_dummies to encode 'age_group' in both training and test sets\nX_train_encoded = pd.get_dummies(X_train, columns=['age_group'], drop_first=True)\nX_test_encoded = pd.get_dummies(X_test, columns=['age_group'], drop_first=True)\n\n# Ensure both train and test have the same columns after encoding\nX_train_encoded, X_test_encoded = X_train_encoded.align(X_test_encoded, join='left', axis=1, fill_value=0)\n\nX_train_encoded.head(), X_test_encoded.head()",
    "outputsMetadata": {
     "0": {
      "height": 550,
      "tableState": {},
      "type": "dataFrame"
     },
     "2": {
      "height": 150,
      "type": "dataFrame"
     }
    }
   },
   "outputs": [
    {
     "data": {
      "text/plain": [
       "(     engagement_time  ...  age_group_under 18\n",
       " 29              5.00  ...                   0\n",
       " 535             2.77  ...                   0\n",
       " 695             4.67  ...                   0\n",
       " 557             6.97  ...                   1\n",
       " 836             6.88  ...                   0\n",
       " \n",
       " [5 rows x 4 columns],\n",
       "      engagement_time  ...  age_group_under 18\n",
       " 521             4.72  ...                   0\n",
       " 737             8.67  ...                   0\n",
       " 740             6.60  ...                   0\n",
       " 660             5.23  ...                   0\n",
       " 411             7.91  ...                   1\n",
       " \n",
       " [5 rows x 4 columns])"
      ]
     },
     "execution_count": 47,
     "metadata": {},
     "output_type": "execute_result"
    }
   ],
   "source": [
    "# Use get_dummies to encode 'age_group' in both training and test sets\n",
    "X_train_encoded = pd.get_dummies(X_train, columns=['age_group'], drop_first=True)\n",
    "X_test_encoded = pd.get_dummies(X_test, columns=['age_group'], drop_first=True)\n",
    "\n",
    "# Ensure both train and test have the same columns after encoding\n",
    "X_train_encoded, X_test_encoded = X_train_encoded.align(X_test_encoded, join='left', axis=1, fill_value=0)\n",
    "\n",
    "X_train_encoded.head(), X_test_encoded.head()"
   ]
  },
  {
   "cell_type": "code",
   "execution_count": 48,
   "id": "78b38955-d48a-4f68-9d7a-379d8399e66e",
   "metadata": {
    "executionCancelledAt": null,
    "executionTime": 162,
    "lastExecutedAt": 1759635277622,
    "lastExecutedByKernel": "cb14c616-b23a-489e-9873-5e706e38dd3a",
    "lastScheduledRunId": null,
    "lastSuccessfullyExecutedCode": "# Instantiate the models\nmodel1 = LogisticRegression(max_iter=1000, random_state=42)\nmodel2 = DecisionTreeClassifier(random_state=42)\nmodel3 = RandomForestClassifier(random_state=42)\n\n# Train the models on the training set\nmodel1.fit(X_train_encoded, y_train)\nmodel2.fit(X_train_encoded, y_train)\nmodel3.fit(X_train_encoded, y_train)"
   },
   "outputs": [
    {
     "data": {
      "text/html": [
       "<style>#sk-container-id-5 {color: black;background-color: white;}#sk-container-id-5 pre{padding: 0;}#sk-container-id-5 div.sk-toggleable {background-color: white;}#sk-container-id-5 label.sk-toggleable__label {cursor: pointer;display: block;width: 100%;margin-bottom: 0;padding: 0.3em;box-sizing: border-box;text-align: center;}#sk-container-id-5 label.sk-toggleable__label-arrow:before {content: \"▸\";float: left;margin-right: 0.25em;color: #696969;}#sk-container-id-5 label.sk-toggleable__label-arrow:hover:before {color: black;}#sk-container-id-5 div.sk-estimator:hover label.sk-toggleable__label-arrow:before {color: black;}#sk-container-id-5 div.sk-toggleable__content {max-height: 0;max-width: 0;overflow: hidden;text-align: left;background-color: #f0f8ff;}#sk-container-id-5 div.sk-toggleable__content pre {margin: 0.2em;color: black;border-radius: 0.25em;background-color: #f0f8ff;}#sk-container-id-5 input.sk-toggleable__control:checked~div.sk-toggleable__content {max-height: 200px;max-width: 100%;overflow: auto;}#sk-container-id-5 input.sk-toggleable__control:checked~label.sk-toggleable__label-arrow:before {content: \"▾\";}#sk-container-id-5 div.sk-estimator input.sk-toggleable__control:checked~label.sk-toggleable__label {background-color: #d4ebff;}#sk-container-id-5 div.sk-label input.sk-toggleable__control:checked~label.sk-toggleable__label {background-color: #d4ebff;}#sk-container-id-5 input.sk-hidden--visually {border: 0;clip: rect(1px 1px 1px 1px);clip: rect(1px, 1px, 1px, 1px);height: 1px;margin: -1px;overflow: hidden;padding: 0;position: absolute;width: 1px;}#sk-container-id-5 div.sk-estimator {font-family: monospace;background-color: #f0f8ff;border: 1px dotted black;border-radius: 0.25em;box-sizing: border-box;margin-bottom: 0.5em;}#sk-container-id-5 div.sk-estimator:hover {background-color: #d4ebff;}#sk-container-id-5 div.sk-parallel-item::after {content: \"\";width: 100%;border-bottom: 1px solid gray;flex-grow: 1;}#sk-container-id-5 div.sk-label:hover label.sk-toggleable__label {background-color: #d4ebff;}#sk-container-id-5 div.sk-serial::before {content: \"\";position: absolute;border-left: 1px solid gray;box-sizing: border-box;top: 0;bottom: 0;left: 50%;z-index: 0;}#sk-container-id-5 div.sk-serial {display: flex;flex-direction: column;align-items: center;background-color: white;padding-right: 0.2em;padding-left: 0.2em;position: relative;}#sk-container-id-5 div.sk-item {position: relative;z-index: 1;}#sk-container-id-5 div.sk-parallel {display: flex;align-items: stretch;justify-content: center;background-color: white;position: relative;}#sk-container-id-5 div.sk-item::before, #sk-container-id-5 div.sk-parallel-item::before {content: \"\";position: absolute;border-left: 1px solid gray;box-sizing: border-box;top: 0;bottom: 0;left: 50%;z-index: -1;}#sk-container-id-5 div.sk-parallel-item {display: flex;flex-direction: column;z-index: 1;position: relative;background-color: white;}#sk-container-id-5 div.sk-parallel-item:first-child::after {align-self: flex-end;width: 50%;}#sk-container-id-5 div.sk-parallel-item:last-child::after {align-self: flex-start;width: 50%;}#sk-container-id-5 div.sk-parallel-item:only-child::after {width: 0;}#sk-container-id-5 div.sk-dashed-wrapped {border: 1px dashed gray;margin: 0 0.4em 0.5em 0.4em;box-sizing: border-box;padding-bottom: 0.4em;background-color: white;}#sk-container-id-5 div.sk-label label {font-family: monospace;font-weight: bold;display: inline-block;line-height: 1.2em;}#sk-container-id-5 div.sk-label-container {text-align: center;}#sk-container-id-5 div.sk-container {/* jupyter's `normalize.less` sets `[hidden] { display: none; }` but bootstrap.min.css set `[hidden] { display: none !important; }` so we also need the `!important` here to be able to override the default hidden behavior on the sphinx rendered scikit-learn.org. See: https://github.com/scikit-learn/scikit-learn/issues/21755 */display: inline-block !important;position: relative;}#sk-container-id-5 div.sk-text-repr-fallback {display: none;}</style><div id=\"sk-container-id-5\" class=\"sk-top-container\"><div class=\"sk-text-repr-fallback\"><pre>RandomForestClassifier(random_state=42)</pre><b>In a Jupyter environment, please rerun this cell to show the HTML representation or trust the notebook. <br />On GitHub, the HTML representation is unable to render, please try loading this page with nbviewer.org.</b></div><div class=\"sk-container\" hidden><div class=\"sk-item\"><div class=\"sk-estimator sk-toggleable\"><input class=\"sk-toggleable__control sk-hidden--visually\" id=\"sk-estimator-id-5\" type=\"checkbox\" checked><label for=\"sk-estimator-id-5\" class=\"sk-toggleable__label sk-toggleable__label-arrow\">RandomForestClassifier</label><div class=\"sk-toggleable__content\"><pre>RandomForestClassifier(random_state=42)</pre></div></div></div></div></div>"
      ],
      "text/plain": [
       "RandomForestClassifier(random_state=42)"
      ]
     },
     "execution_count": 48,
     "metadata": {},
     "output_type": "execute_result"
    }
   ],
   "source": [
    "# Instantiate the models\n",
    "model1 = LogisticRegression(max_iter=1000, random_state=42)\n",
    "model2 = DecisionTreeClassifier(random_state=42)\n",
    "model3 = RandomForestClassifier(random_state=42)\n",
    "\n",
    "# Train the models on the training set\n",
    "model1.fit(X_train_encoded, y_train)\n",
    "model2.fit(X_train_encoded, y_train)\n",
    "model3.fit(X_train_encoded, y_train)"
   ]
  },
  {
   "cell_type": "code",
   "execution_count": 49,
   "id": "6cf9b420-89f6-4b66-89f4-cde4a734f9cc",
   "metadata": {
    "executionCancelledAt": null,
    "executionTime": 312,
    "lastExecutedAt": 1759635277934,
    "lastExecutedByKernel": "cb14c616-b23a-489e-9873-5e706e38dd3a",
    "lastScheduledRunId": null,
    "lastSuccessfullyExecutedCode": "# Evaluate and compare model performance with different configurations\n\n# 1. Baseline: previously trained models\nscore_logreg = model1.score(X_test_encoded, y_test)\nscore_dtree = model2.score(X_test_encoded, y_test)\nscore_rf = model3.score(X_test_encoded, y_test)\n\n# 2. Decision Tree with 'entropy' criterion and max_depth=3\ndtree_entropy = DecisionTreeClassifier(criterion='entropy', max_depth=3, random_state=42)\ndtree_entropy.fit(X_train_encoded, y_train)\nscore_dtree_entropy = dtree_entropy.score(X_test_encoded, y_test)\n\n# 3. Decision Tree with 'gini' criterion and max_depth=5\ndtree_gini = DecisionTreeClassifier(criterion='gini', max_depth=5, random_state=42)\ndtree_gini.fit(X_train_encoded, y_train)\nscore_dtree_gini = dtree_gini.score(X_test_encoded, y_test)\n\n# 4. Random Forest with max_depth=3\nrf_depth3 = RandomForestClassifier(max_depth=3, random_state=42)\nrf_depth3.fit(X_train_encoded, y_train)\nscore_rf_depth3 = rf_depth3.score(X_test_encoded, y_test)\n\n# 5. Random Forest with max_depth=7\nrf_depth7 = RandomForestClassifier(max_depth=7, random_state=42)\nrf_depth7.fit(X_train_encoded, y_train)\nscore_rf_depth7 = rf_depth7.score(X_test_encoded, y_test)\n\n# Collect results in a dictionary for easy comparison\nmodel_scores = {\n    \"Logistic Regression\": score_logreg,\n    \"Decision Tree (default)\": score_dtree,\n    \"Random Forest (default)\": score_rf,\n    \"Decision Tree (entropy, max_depth=3)\": score_dtree_entropy,\n    \"Decision Tree (gini, max_depth=5)\": score_dtree_gini,\n    \"Random Forest (max_depth=3)\": score_rf_depth3,\n    \"Random Forest (max_depth=7)\": score_rf_depth7\n}\n\nmodel_scores"
   },
   "outputs": [
    {
     "data": {
      "text/plain": [
       "{'Logistic Regression': 0.92,\n",
       " 'Decision Tree (default)': 0.875,\n",
       " 'Random Forest (default)': 0.88,\n",
       " 'Decision Tree (entropy, max_depth=3)': 0.905,\n",
       " 'Decision Tree (gini, max_depth=5)': 0.92,\n",
       " 'Random Forest (max_depth=3)': 0.915,\n",
       " 'Random Forest (max_depth=7)': 0.925}"
      ]
     },
     "execution_count": 49,
     "metadata": {},
     "output_type": "execute_result"
    }
   ],
   "source": [
    "# Evaluate and compare model performance with different configurations\n",
    "\n",
    "# 1. Baseline: previously trained models\n",
    "score_logreg = model1.score(X_test_encoded, y_test)\n",
    "score_dtree = model2.score(X_test_encoded, y_test)\n",
    "score_rf = model3.score(X_test_encoded, y_test)\n",
    "\n",
    "# 2. Decision Tree with 'entropy' criterion and max_depth=3\n",
    "dtree_entropy = DecisionTreeClassifier(criterion='entropy', max_depth=3, random_state=42)\n",
    "dtree_entropy.fit(X_train_encoded, y_train)\n",
    "score_dtree_entropy = dtree_entropy.score(X_test_encoded, y_test)\n",
    "\n",
    "# 3. Decision Tree with 'gini' criterion and max_depth=5\n",
    "dtree_gini = DecisionTreeClassifier(criterion='gini', max_depth=5, random_state=42)\n",
    "dtree_gini.fit(X_train_encoded, y_train)\n",
    "score_dtree_gini = dtree_gini.score(X_test_encoded, y_test)\n",
    "\n",
    "# 4. Random Forest with max_depth=3\n",
    "rf_depth3 = RandomForestClassifier(max_depth=3, random_state=42)\n",
    "rf_depth3.fit(X_train_encoded, y_train)\n",
    "score_rf_depth3 = rf_depth3.score(X_test_encoded, y_test)\n",
    "\n",
    "# 5. Random Forest with max_depth=7\n",
    "rf_depth7 = RandomForestClassifier(max_depth=7, random_state=42)\n",
    "rf_depth7.fit(X_train_encoded, y_train)\n",
    "score_rf_depth7 = rf_depth7.score(X_test_encoded, y_test)\n",
    "\n",
    "# Collect results in a dictionary for easy comparison\n",
    "model_scores = {\n",
    "    \"Logistic Regression\": score_logreg,\n",
    "    \"Decision Tree (default)\": score_dtree,\n",
    "    \"Random Forest (default)\": score_rf,\n",
    "    \"Decision Tree (entropy, max_depth=3)\": score_dtree_entropy,\n",
    "    \"Decision Tree (gini, max_depth=5)\": score_dtree_gini,\n",
    "    \"Random Forest (max_depth=3)\": score_rf_depth3,\n",
    "    \"Random Forest (max_depth=7)\": score_rf_depth7\n",
    "}\n",
    "\n",
    "model_scores"
   ]
  },
  {
   "cell_type": "code",
   "execution_count": 50,
   "id": "c7b5afdd-2c5d-415a-9573-cd5605ada1a8",
   "metadata": {
    "executionCancelledAt": null,
    "executionTime": 56,
    "lastExecutedAt": 1759635277990,
    "lastExecutedByKernel": "cb14c616-b23a-489e-9873-5e706e38dd3a",
    "lastScheduledRunId": null,
    "lastSuccessfullyExecutedCode": "score = model1.score(X_test_encoded, y_test)\nprint(score)"
   },
   "outputs": [
    {
     "name": "stdout",
     "output_type": "stream",
     "text": [
      "0.92\n"
     ]
    }
   ],
   "source": [
    "score = model1.score(X_test_encoded, y_test)\n",
    "print(score)"
   ]
  },
  {
   "cell_type": "code",
   "execution_count": 51,
   "id": "65703cbb-8abf-495d-8f6a-18a170b4bdfd",
   "metadata": {
    "executionCancelledAt": null,
    "executionTime": 55,
    "lastExecutedAt": 1759635278045,
    "lastExecutedByKernel": "cb14c616-b23a-489e-9873-5e706e38dd3a",
    "lastScheduledRunId": null,
    "lastSuccessfullyExecutedCode": "from sklearn.preprocessing import StandardScaler\n\n# Remove unwanted columns from X and save as segmentation\n# Assuming we want to keep only numerical columns for clustering\nsegmentation = X.drop(columns=['age_group'])\n\n# Normalize the data using StandardScaler\nscaler = StandardScaler()\nsegmentation_scaled = scaler.fit_transform(segmentation)"
   },
   "outputs": [],
   "source": [
    "from sklearn.preprocessing import StandardScaler\n",
    "\n",
    "# Remove unwanted columns from X and save as segmentation\n",
    "# Assuming we want to keep only numerical columns for clustering\n",
    "segmentation = X.drop(columns=['age_group'])\n",
    "\n",
    "# Normalize the data using StandardScaler\n",
    "scaler = StandardScaler()\n",
    "segmentation_scaled = scaler.fit_transform(segmentation)"
   ]
  },
  {
   "cell_type": "code",
   "execution_count": 52,
   "id": "bfd4fee5-69ee-4167-b0c1-413770cc2fe3",
   "metadata": {
    "executionCancelledAt": null,
    "executionTime": 422,
    "lastExecutedAt": 1759635278468,
    "lastExecutedByKernel": "cb14c616-b23a-489e-9873-5e706e38dd3a",
    "lastScheduledRunId": null,
    "lastSuccessfullyExecutedCode": "from sklearn.cluster import KMeans\nimport matplotlib.pyplot as plt\nimport numpy as np\n\n# Elbow method to determine optimal k\nsse = {}\nk_range = range(1, 11)\nfor k in k_range:\n    kmeans = KMeans(n_clusters=k, random_state=42)\n    kmeans.fit(segmentation_scaled)\n    sse[k] = kmeans.inertia_\n\n# Plot the elbow curve\nplt.figure(figsize=(8, 5))\nplt.plot(list(sse.keys()), list(sse.values()), marker='o')\nplt.xlabel(\"Number of clusters (k)\")\nplt.ylabel(\"Sum of squared distances (SSE)\")\nplt.title(\"Elbow Method For Optimal k\")\nplt.show()\n\n# Based on the elbow plot, choose k (for example, k=3)\noptimal_k = 3  # Change this value after inspecting the plot\n\n# Fit KMeans with the chosen k and assign cluster labels\nkmeans = KMeans(n_clusters=optimal_k, random_state=42)\nsegmentation['cluster_id'] = kmeans.fit_predict(segmentation_scaled)"
   },
   "outputs": [
    {
     "data": {
      "image/png": "[encoded data removed]",
      "text/plain": [
       "<Figure size 800x500 with 1 Axes>"
      ]
     },
     "metadata": {
      "image/png": {
       "height": 471,
       "width": 706
      }
     },
     "output_type": "display_data"
    }
   ],
   "source": [
    "from sklearn.cluster import KMeans\n",
    "import matplotlib.pyplot as plt\n",
    "import numpy as np\n",
    "\n",
    "# Elbow method to determine optimal k\n",
    "sse = {}\n",
    "k_range = range(1, 11)\n",
    "for k in k_range:\n",
    "    kmeans = KMeans(n_clusters=k, random_state=42)\n",
    "    kmeans.fit(segmentation_scaled)\n",
    "    sse[k] = kmeans.inertia_\n",
    "\n",
    "# Plot the elbow curve\n",
    "plt.figure(figsize=(8, 5))\n",
    "plt.plot(list(sse.keys()), list(sse.values()), marker='o')\n",
    "plt.xlabel(\"Number of clusters (k)\")\n",
    "plt.ylabel(\"Sum of squared distances (SSE)\")\n",
    "plt.title(\"Elbow Method For Optimal k\")\n",
    "plt.show()\n",
    "\n",
    "# Based on the elbow plot, choose k (for example, k=3)\n",
    "optimal_k = 3  # Change this value after inspecting the plot\n",
    "\n",
    "# Fit KMeans with the chosen k and assign cluster labels\n",
    "kmeans = KMeans(n_clusters=optimal_k, random_state=42)\n",
    "segmentation['cluster_id'] = kmeans.fit_predict(segmentation_scaled)"
   ]
  },
  {
   "cell_type": "code",
   "execution_count": 53,
   "id": "c22a26d1-0a3d-41a2-800f-473217a07f43",
   "metadata": {
    "executionCancelledAt": null,
    "executionTime": 52,
    "lastExecutedAt": 1759635278520,
    "lastExecutedByKernel": "cb14c616-b23a-489e-9873-5e706e38dd3a",
    "lastScheduledRunId": null,
    "lastSuccessfullyExecutedCode": "from sklearn.preprocessing import StandardScaler\nfrom sklearn.cluster import KMeans\n\n# Select only numerical features from X\nnumerical_features = ['engagement_time', 'engagement_frequency']\nX_numerical = X[numerical_features]\n\n# Standardize the numerical features\nscaler = StandardScaler()\nX_scaled = scaler.fit_transform(X_numerical)\n\n# Apply KMeans clustering (choose k=3 as a default, can be adjusted)\nkmeans = KMeans(n_clusters=3, random_state=42)\ncluster_labels = kmeans.fit_predict(X_scaled)\n\n# Add cluster labels to the dataframe\nX_clustered = X_numerical.copy()\nX_clustered['cluster_id'] = cluster_labels\n\n# Analyze average values by cluster_id and round to nearest whole number\nanalysis = X_clustered.groupby('cluster_id')[numerical_features].mean().round(0)"
   },
   "outputs": [],
   "source": [
    "from sklearn.preprocessing import StandardScaler\n",
    "from sklearn.cluster import KMeans\n",
    "\n",
    "# Select only numerical features from X\n",
    "numerical_features = ['engagement_time', 'engagement_frequency']\n",
    "X_numerical = X[numerical_features]\n",
    "\n",
    "# Standardize the numerical features\n",
    "scaler = StandardScaler()\n",
    "X_scaled = scaler.fit_transform(X_numerical)\n",
    "\n",
    "# Apply KMeans clustering (choose k=3 as a default, can be adjusted)\n",
    "kmeans = KMeans(n_clusters=3, random_state=42)\n",
    "cluster_labels = kmeans.fit_predict(X_scaled)\n",
    "\n",
    "# Add cluster labels to the dataframe\n",
    "X_clustered = X_numerical.copy()\n",
    "X_clustered['cluster_id'] = cluster_labels\n",
    "\n",
    "# Analyze average values by cluster_id and round to nearest whole number\n",
    "analysis = X_clustered.groupby('cluster_id')[numerical_features].mean().round(0)"
   ]
  },
  {
   "cell_type": "code",
   "execution_count": 54,
   "id": "7a713f0a-9a01-4564-b692-29edf138d350",
   "metadata": {
    "executionCancelledAt": null,
    "executionTime": 60,
    "lastExecutedAt": 1759635278582,
    "lastExecutedByKernel": "cb14c616-b23a-489e-9873-5e706e38dd3a",
    "lastScheduledRunId": null,
    "lastSuccessfullyExecutedCode": "analysis",
    "outputsMetadata": {
     "0": {
      "height": 500,
      "tableState": {},
      "type": "dataFrame"
     }
    }
   },
   "outputs": [
    {
     "data": {
      "application/com.datacamp.data-table.v2+json": {
       "table": {
        "data": {
         "cluster_id": [
          0,
          1,
          2
         ],
         "engagement_frequency": [
          9,
          5,
          18
         ],
         "engagement_time": [
          9,
          4,
          7
         ]
        },
        "schema": {
         "fields": [
          {
           "name": "cluster_id",
           "type": "integer"
          },
          {
           "name": "engagement_time",
           "type": "number"
          },
          {
           "name": "engagement_frequency",
           "type": "number"
          }
         ],
         "pandas_version": "1.4.0",
         "primaryKey": [
          "cluster_id"
         ]
        }
       },
       "total_rows": 3,
       "truncation_type": null
      },
      "text/html": [
       "<div>\n",
       "<style scoped>\n",
       "    .dataframe tbody tr th:only-of-type {\n",
       "        vertical-align: middle;\n",
       "    }\n",
       "\n",
       "    .dataframe tbody tr th {\n",
       "        vertical-align: top;\n",
       "    }\n",
       "\n",
       "    .dataframe thead th {\n",
       "        text-align: right;\n",
       "    }\n",
       "</style>\n",
       "<table border=\"1\" class=\"dataframe\">\n",
       "  <thead>\n",
       "    <tr style=\"text-align: right;\">\n",
       "      <th></th>\n",
       "      <th>engagement_time</th>\n",
       "      <th>engagement_frequency</th>\n",
       "    </tr>\n",
       "    <tr>\n",
       "      <th>cluster_id</th>\n",
       "      <th></th>\n",
       "      <th></th>\n",
       "    </tr>\n",
       "  </thead>\n",
       "  <tbody>\n",
       "    <tr>\n",
       "      <th>0</th>\n",
       "      <td>9.0</td>\n",
       "      <td>9.0</td>\n",
       "    </tr>\n",
       "    <tr>\n",
       "      <th>1</th>\n",
       "      <td>4.0</td>\n",
       "      <td>5.0</td>\n",
       "    </tr>\n",
       "    <tr>\n",
       "      <th>2</th>\n",
       "      <td>7.0</td>\n",
       "      <td>18.0</td>\n",
       "    </tr>\n",
       "  </tbody>\n",
       "</table>\n",
       "</div>"
      ],
      "text/plain": [
       "            engagement_time  engagement_frequency\n",
       "cluster_id                                       \n",
       "0                       9.0                   9.0\n",
       "1                       4.0                   5.0\n",
       "2                       7.0                  18.0"
      ]
     },
     "execution_count": 54,
     "metadata": {
      "application/com.datacamp.data-table.v2+json": {
       "status": "success"
      }
     },
     "output_type": "execute_result"
    }
   ],
   "source": [
    "analysis"
   ]
  }
 ],
 "metadata": {
  "colab": {
   "name": "Welcome to DataCamp Workspaces.ipynb",
   "provenance": []
  },
  "kernelspec": {
   "display_name": "Python 3 (ipykernel)",
   "language": "python",
   "name": "python3"
  },
  "language_info": {
   "codemirror_mode": {
    "name": "ipython",
    "version": 3
   },
   "file_extension": ".py",
   "mimetype": "text/x-python",
   "name": "python",
   "nbconvert_exporter": "python",
   "pygments_lexer": "ipython3",
   "version": "3.8.10"
  }
 },
 "nbformat": 4,
 "nbformat_minor": 5
}
